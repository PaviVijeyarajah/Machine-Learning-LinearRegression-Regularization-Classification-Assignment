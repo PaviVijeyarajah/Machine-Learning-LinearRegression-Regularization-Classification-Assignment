{
 "cells": [
  {
   "cell_type": "markdown",
   "metadata": {
    "id": "FK-Nm7jB-gbE"
   },
   "source": [
    "# INFR 3700U Assignment 1 Fall 2024"
   ]
  },
  {
   "cell_type": "markdown",
   "metadata": {
    "id": "ZVeTZSjF-n1O"
   },
   "source": [
    "# Total: /100\n",
    "\n",
    "## Instructions\n",
    "\n",
    "* Complete the Lab assignment\n",
    "\n",
    "* Once the notebook is complete, restart your kernel and rerun your cells\n",
    "\n",
    "* Submit this notebook to owl by the deadline\n",
    "\n",
    "* You may use any python library functions you wish to complete the Lab assignment.\n",
    "\n",
    "\n",
    "\n",
    "This notebook contains the questions for Assignment 1. Please note, a random seed has been set to ensure the reproducability of the results -- *DO NOT* change this random seed. **If you call additional functions that are based on random number generators, you will need to define their seed to 42 as well**. Make sure to complete this assignment individually and appropriately reference all external code and documentation used. Using AI chatbots (e.g., ChatGPT) to generate the code is NOT allowed and will be considered plagiarism."
   ]
  },
  {
   "cell_type": "code",
   "execution_count": 1,
   "metadata": {
    "id": "YMSsKHC8AAjq"
   },
   "outputs": [],
   "source": [
    "import matplotlib\n",
    "import matplotlib.pyplot as plt \n",
    "%matplotlib inline\n",
    "import pandas as pd \n",
    "import numpy as np\n",
    "import seaborn as sns\n",
    "\n",
    "from sklearn.model_selection import train_test_split, cross_val_score\n",
    "from sklearn.pipeline import Pipeline\n",
    "from sklearn.linear_model import LinearRegression, Lasso, Ridge, LogisticRegression\n",
    "from sklearn.svm import LinearSVC\n",
    "from sklearn.preprocessing import StandardScaler\n",
    "from sklearn.metrics import make_scorer, mean_absolute_error, r2_score, accuracy_score, precision_score\n",
    "from sklearn.linear_model import RidgeCV\n",
    "from sklearn.metrics import mean_squared_error\n",
    "np.random.seed(42)"
   ]
  },
  {
   "cell_type": "markdown",
   "metadata": {
    "id": "6QVsGck9AKsk"
   },
   "source": [
    "## Data set \n",
    "\n",
    "This assignment's objective is to develop a data-driven predictive model for the power consumption of an industrial refrigeration system using the `Data_Rack01` dataset.  \n",
    "The data frame contains the following data, where each row represents a datapoint:\n",
    "\n",
    "- Dew_Point: the temperature to which air must be cooled to become saturated with water vapor \n",
    "- Indoor_Humidity: The indoor Humidity\n",
    "- Indoor_Temperature: The indoor temprature (Fahrenheit)\n",
    "- Outdoor_Humidity: The outdoor humidity\n",
    "- Outdoor_Temperature: The outdoor temprature (Fahrenheit)\n",
    "- Discharge_Pressure: The pressure generated on the output side of a gas compressor in a refrigeration system\n",
    "- Discharge_Temperature: The compressor's discharge temperature \n",
    "- KW: Power consumed\n",
    "- Power_Factor: The power factor of the refrigeration system\n",
    "- Volts_Line_to_Line\n",
    "- Volts_Line_to_Neutral"
   ]
  },
  {
   "cell_type": "markdown",
   "metadata": {
    "id": "e-_CPHZs_QmP"
   },
   "source": [
    "## Question 1 (40 pts)"
   ]
  },
  {
   "cell_type": "markdown",
   "metadata": {
    "id": "WYC_VhLLAiDJ"
   },
   "source": [
    "### a) Preprocess the data acording to the following:\n",
    "\n",
    "1. Load data into a variable called myData\n",
    "2. In the `myPreProc` function perform the following:\n",
    "  - Remove the empty column(s), \n",
    "  - Drop rows with any missing data (\"NA\").\n",
    "  - Remove the 'DeviceName' column as well\n",
    "\n",
    "The processed data should be returned through the function variable `procData`\n",
    "\n",
    "### b) Define two loss functions:\n",
    "- one that measures the absolute difference between observations and predictions. Return mean of the result.\n",
    "- one that finds the absolute difference that is less than or equal to a threshold. Return mean of the result.\n",
    "\n",
    "### c) Data splitting:\n",
    "- Use power consumption as the target variable for your machine learning model. \n",
    "- Split your preprocessed dataset by setting aside some amount of data for testing, and retaining the rest for training. Reserve 30 percent of your data for testing. *Make sure to set the random_state to 42 if you are using an sklearn function to accomplish this. \n",
    "\n",
    "\n",
    "### d) Build a linear regression model:\n",
    "- Build a model to predict power consumed (KW) as a `linear function` of the other variables (features) in the dataset. In order to properly build the regression model, the features need to be standardized so that no feature can dominate others in determining the prediction values due to differences in feature scales. Build the pipeline that standardizes the features and creates a linear regression model.\n",
    "- Report the coefficient of determination (`R2 score`) when evaluating both the training and testing performance of your model."
   ]
  },
  {
   "cell_type": "code",
   "execution_count": 2,
   "metadata": {
    "id": "idO1fKVYAS2T"
   },
   "outputs": [],
   "source": [
    "#Part 1a\n",
    "\n",
    "#load data\n",
    "myData=pd.read_csv('Data_Rack01.csv')\n",
    "\n",
    "def myPreProc(data):\n",
    "    remCol = data.dropna(how= \"all\", axis=1)\n",
    "    dropRow = remCol.dropna()\n",
    "    procData = dropRow.drop(labels='DeviceName',axis=1)\n",
    "    return procData\n",
    "\n",
    "procData=myPreProc(myData)\n"
   ]
  },
  {
   "cell_type": "code",
   "execution_count": 3,
   "metadata": {
    "id": "lz5d_U-mDRmL"
   },
   "outputs": [],
   "source": [
    "#Part 1b\n",
    "\n",
    "def abs_diff_loss(obs, pred):\n",
    "    \n",
    "    #write function\n",
    "    resids = abs(obs-pred)\n",
    "    return resids.mean()\n",
    "\n",
    "def threshold_loss(obs, pred, thresh):\n",
    "    \n",
    "    #write function\n",
    "    diff=abs(obs-pred)\n",
    "    resids = diff[diff <= thresh]\n",
    "    return resids.mean()\n"
   ]
  },
  {
   "cell_type": "code",
   "execution_count": 4,
   "metadata": {
    "id": "U8Du1o0UEs4D"
   },
   "outputs": [],
   "source": [
    "#Part 1c\n",
    "\n",
    "X = procData.drop(columns='kW')\n",
    "y = procData['kW']\n",
    "X_train, X_test, y_train, y_test = train_test_split(X, y, test_size = 0.30, random_state = 42)\n"
   ]
  },
  {
   "cell_type": "code",
   "execution_count": 5,
   "metadata": {
    "id": "AatCUdd2FuRh"
   },
   "outputs": [
    {
     "name": "stdout",
     "output_type": "stream",
     "text": [
      "Coefficient of determination for testing performance:  0.4240761933328048\n",
      "Coefficient of determination for training performance:  0.4364138509466349\n"
     ]
    }
   ],
   "source": [
    "#Part 1d\n",
    "\n",
    "pipeline = Pipeline([('scaler', StandardScaler()), ('model',LinearRegression())] )\n",
    "pipeline.fit(X_train,y_train)\n",
    "y_pred_test = pipeline.predict(X_test)\n",
    "y_pred_train = pipeline.predict(X_train)\n",
    "\n",
    "r2_test=r2_score(y_test, y_pred_test)\n",
    "r2_train=r2_score(y_train, y_pred_train)\n",
    "\n",
    "print(\"Coefficient of determination for testing performance: \",r2_test)\n",
    "print(\"Coefficient of determination for training performance: \",r2_train)"
   ]
  },
  {
   "cell_type": "markdown",
   "metadata": {
    "id": "dCjly_Sq_Tpr"
   },
   "source": [
    "## Question 2 - Regularization (25 pts) "
   ]
  },
  {
   "cell_type": "markdown",
   "metadata": {},
   "source": [
    "### a) Determine regularization parameter:\n",
    "- Perform Ridge Regression with 5-fold cross-validation on the training set to find and **print out** the optimal regularization parameter (alpha) value. Vary the regularization parameter (alpha) between 0.01 and 1, evenly spaced in log-space, and generate 100 values. Set the random state to 42. Tip: use RidgeCV function.\n",
    "### b) Plot findings:\n",
    "- Create a plot showing the relationship between these 100 alpha values and their corresponding mean RMSE values. Sets the scale of the x-axis to a logarithmic scale. Tip: Use 'for' loop to calculate the corresponding mean RMSE value for each alpha value.  \n",
    "### c) Evaluate the model\n",
    "- Build and fit a standardized Ridge Regression model on the training set using the optimal alpha and a random state of 42. Report the RMSE to evaluate the testing performance of your model."
   ]
  },
  {
   "cell_type": "code",
   "execution_count": 6,
   "metadata": {},
   "outputs": [
    {
     "name": "stdout",
     "output_type": "stream",
     "text": [
      "0.43287612810830595\n"
     ]
    }
   ],
   "source": [
    "#Part 2a\n",
    "\n",
    "# uses base=10,base^x=y where x is the number you put in log space and y is the starting/ending value\n",
    "ridge_alpha = np.logspace(-2, 0, 100) #10^-2=0.1 and 10^0=1\n",
    "ridge = RidgeCV(alphas=ridge_alpha, cv=5)\n",
    "ridge = ridge.fit(X_train, y_train)\n",
    "\n",
    "print(ridge.alpha_)\n"
   ]
  },
  {
   "cell_type": "code",
   "execution_count": 7,
   "metadata": {},
   "outputs": [
    {
     "data": {
      "image/png": "[encoded data removed]",
      "text/plain": [
       "<Figure size 720x432 with 1 Axes>"
      ]
     },
     "metadata": {
      "needs_background": "light"
     },
     "output_type": "display_data"
    }
   ],
   "source": [
    "#Part 2b\n",
    "\n",
    "RMSE = [] \n",
    "\n",
    "for i in ridge_alpha:\n",
    "    model = Ridge(alpha=i)\n",
    "    model.fit(X_train, y_train)\n",
    "    y_pred_train = model.predict(X_train)\n",
    "    \n",
    "    rms = np.mean(mean_squared_error(y_train, y_pred_train, squared=False))\n",
    "    RMSE.append(rms)\n",
    "\n",
    "plt.figure(figsize=(10, 6))\n",
    "plt.plot(ridge_alpha,RMSE)\n",
    "plt.xscale('log')\n",
    "plt.title('Alpha & Mean RMSE Relationship')\n",
    "plt.xlabel('Alpha')\n",
    "plt.ylabel('Mean RMSE')\n",
    "plt.show()"
   ]
  },
  {
   "cell_type": "code",
   "execution_count": 8,
   "metadata": {},
   "outputs": [
    {
     "name": "stdout",
     "output_type": "stream",
     "text": [
      "Test RMSE:  21.835272265032646\n"
     ]
    }
   ],
   "source": [
    "#Part 2c\n",
    "r_pipeline = Pipeline([('scaler', StandardScaler()),\n",
    "     ('ridge',Ridge(alpha=ridge.alpha_,random_state=42))] )\n",
    "r_pipeline.fit(X_train,y_train)\n",
    "y_pred_test = r_pipeline.predict(X_test)\n",
    "\n",
    "test= mean_squared_error(y_train, y_pred_train, squared=False)\n",
    "\n",
    "print(\"Test RMSE: \",test)"
   ]
  },
  {
   "cell_type": "markdown",
   "metadata": {
    "id": "qIyWI6Z9_Wt_"
   },
   "source": [
    "## Question 3 - Classification (35 pts)"
   ]
  },
  {
   "cell_type": "markdown",
   "metadata": {
    "id": "EKJyCvu4LC6u"
   },
   "source": [
    "### a) Binary target:\n",
    "- Convert your target variable in the dataset into a binary variable using >= mean thresholding (use the same data splitting as before). \n",
    "\n",
    "### b) Build logistic regression model:\n",
    "- Define a Logistic Regression model and report the resulting *training* precision and *testing* accuracy of your model. Make sure the set the maximum number of iterations for your model to 10000 (use pipeline for normalization and model building same as Questions 1 and 2).\n",
    "\n",
    "### c) Build a Support Vector Machine (SVM) model:\n",
    "- Define a linear SVM model with default options and maximum number of iterations 10000. Report the resulting *training* precision and *testing* accuracy of your model (use pipeline for normalization and model building same as Questions 1 and 2).\n",
    "\n",
    "\n",
    "### d) Comparison:\n",
    "- Compare the performance of your models in `b` and `c` in terms of generalization performance and execution time, what do you conclude? "
   ]
  },
  {
   "cell_type": "code",
   "execution_count": 9,
   "metadata": {
    "id": "s0NJeac3-b_5"
   },
   "outputs": [],
   "source": [
    "#Part 3a\n",
    "\n",
    "thresh=y.mean()\n",
    "binary_target = np.where(y >= thresh, 1, 0)\n",
    "#assuming the data splitting is for binary\n",
    "X_bin_train, X_bin_test, y_bin_train, y_bin_test = train_test_split(X, binary_target, test_size = 0.30, random_state = 42)"
   ]
  },
  {
   "cell_type": "code",
   "execution_count": 10,
   "metadata": {
    "id": "55duLbGZM8dv"
   },
   "outputs": [
    {
     "name": "stdout",
     "output_type": "stream",
     "text": [
      "Resulting training precision:  0.807841483979764 \n",
      "Resulting testing accuracy:  0.8045560445249806\n"
     ]
    }
   ],
   "source": [
    "#Part 3b\n",
    "\n",
    "pipeline = Pipeline([('scaler', StandardScaler()), ('model',LogisticRegression(max_iter=10000, random_state=42))])\n",
    "#assuming we use binary variables\n",
    "pipeline.fit(X_bin_train,y_bin_train)\n",
    "y_bin_pred_test = pipeline.predict(X_bin_test)\n",
    "y_bin_pred_train = pipeline.predict(X_bin_train)\n",
    "\n",
    "train_per=precision_score(y_bin_train, y_bin_pred_train)\n",
    "test_acc=accuracy_score(y_bin_test, y_bin_pred_test)\n",
    "\n",
    "print(\"Resulting training precision: \", train_per,\"\\nResulting testing accuracy: \", test_acc)"
   ]
  },
  {
   "cell_type": "code",
   "execution_count": 11,
   "metadata": {},
   "outputs": [
    {
     "name": "stdout",
     "output_type": "stream",
     "text": [
      "Resulting training precision:  0.7866311455558247 \n",
      "Resulting testing accuracy:  0.7912244369660886\n"
     ]
    },
    {
     "name": "stderr",
     "output_type": "stream",
     "text": [
      "C:\\Users\\LENOVO\\anaconda3\\lib\\site-packages\\sklearn\\svm\\_base.py:1206: ConvergenceWarning: Liblinear failed to converge, increase the number of iterations.\n",
      "  warnings.warn(\n"
     ]
    }
   ],
   "source": [
    "#Part 3c\n",
    "#It says SVC but in the sklearn it says its ok\n",
    "pipeline = Pipeline([('scaler', StandardScaler()), ('model',LinearSVC(max_iter=10000))])\n",
    "#assuming we use binary variables\n",
    "pipeline.fit(X_bin_train,y_bin_train)\n",
    "y_bin_pred_test = pipeline.predict(X_bin_test)\n",
    "y_bin_pred_train = pipeline.predict(X_bin_train)\n",
    "\n",
    "train_per=precision_score(y_bin_train, y_bin_pred_train)\n",
    "test_acc=accuracy_score(y_bin_test, y_bin_pred_test)\n",
    "\n",
    "print(\"Resulting training precision: \", train_per,\"\\nResulting testing accuracy: \", test_acc)"
   ]
  },
  {
   "cell_type": "markdown",
   "metadata": {},
   "source": [
    "*Part 3d*\n",
    "\n",
    "`Written Answer: In terms of the performance we can see that Logistic Regression is slightly better performing than Linear SVM. Execution time wise Logistic Regression was faster but I did come across an error for Linear SVM when outputting the results so I'm not sure if that increased the execution time in anyway. From what I have seen I conclude that overall Logistic Regression is the better model in terms of generalizing performance and execution time.`\n"
   ]
  },
  {
   "cell_type": "markdown",
   "metadata": {},
   "source": [
    "\n",
    "`Reference List`\n",
    "\n",
    "`“Accuracy_score.” Scikit Learn, scikit-learn.org/stable/modules/generated/sklearn.metrics.accuracy_score.html.\n",
    "\n",
    "ankthon. “Drop Rows from Pandas Dataframe with Missing Values or Nan in Columns.” GeeksforGeeks, 2 July 2020, www.geeksforgeeks.org/drop-rows-from-pandas-dataframe-with-missing-values-or-nan-in-columns/.\n",
    "\n",
    "Chauhan, Devesh. “Drop Empty Columns in Pandas.” Tutorialspoint, 5 May 2023, www.tutorialspoint.com/drop-empty-columns-in-pandas#:~:text=We%20can%20drop%20both%20regular,dropna()%E2%80%9D%20method.\n",
    "\n",
    "Coots, Reed, et al. “Ridge Regression | Python.” GitHub, jbhender.github.io/Stats506/F17/Projects/G13/Python.html#:~:text=Ridge%20Regression%20cross%20validation%20can,optimal%20alpha%20value%20as%20shown.&text=The%20optimal%20alpha%20value%20for%20our%20analysis%20ends%20up%20being%2022.\n",
    "\n",
    "Demirkesen, Yalim. “Applying Ridge Regression with Cross-Validation.” Medium, 2 May 2021, towardsdatascience.com/the-power-of-ridge-regression-4281852a64d6.\n",
    "\n",
    "“LINEARSVC.” Scikit Learn, scikit-learn.org/dev/modules/generated/sklearn.svm.LinearSVC.html.\n",
    "\n",
    "“Logisticregression.” Scikit Learn, scikit-learn.org/1.5/modules/generated/sklearn.linear_model.LogisticRegression.html.\n",
    "\n",
    "“Pandas DataFrame Drop() Method.” W3Schools, www.w3schools.com/python/pandas/ref_df_drop.asp#:~:text=The%20drop()%20method%20removes,method%20removes%20the%20specified%20row.\n",
    "\n",
    "“Precision_score.” Scikit Learn, scikit-learn.org/stable/modules/generated/sklearn.metrics.precision_score.html.\n",
    "\n",
    "“R2_score.” Scikit Learn, scikit-learn.org/stable/modules/generated/sklearn.metrics.r2_score.html.\n",
    "\n",
    "Rao, Sathyanarayan. “Understanding Pipeline in Sklearn.” Kaggle, 2022, www.kaggle.com/code/sathyanarayanrao89/understanding-pipeline-in-sklearn.\n",
    "\n",
    "“RIDGECV.” Scikit Learn, scikit-learn.org/dev/modules/generated/sklearn.linear_model.RidgeCV.html.\n",
    "\n",
    "siamii, and Greg. “Is There a Library Function for Root Mean Square Error (RMSE) in Python?” Stack Overflow, 19 June 2013, stackoverflow.com/questions/17197492/is-there-a-library-function-for-root-mean-square-error-rmse-in-python.\n",
    "\n",
    "Tartaglia. “Using Standardization in Sklearn Pipeline.” Stack Overflow, 4 Jan. 2019, stackoverflow.com/questions/54034991/using-standardization-in-sklearn-pipeline.`\n",
    "\n",
    "\n",
    "\n"
   ]
  },
  {
   "cell_type": "code",
   "execution_count": null,
   "metadata": {},
   "outputs": [],
   "source": []
  }
 ],
 "metadata": {
  "colab": {
   "name": "ECE _9309_Assignment_1_2022_Solutions_and_Tests",
   "provenance": []
  },
  "kernelspec": {
   "display_name": "Python 3 (ipykernel)",
   "language": "python",
   "name": "python3"
  },
  "language_info": {
   "codemirror_mode": {
    "name": "ipython",
    "version": 3
   },
   "file_extension": ".py",
   "mimetype": "text/x-python",
   "name": "python",
   "nbconvert_exporter": "python",
   "pygments_lexer": "ipython3",
   "version": "3.9.12"
  }
 },
 "nbformat": 4,
 "nbformat_minor": 1
}
